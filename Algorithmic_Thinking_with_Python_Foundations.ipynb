{
  "nbformat": 4,
  "nbformat_minor": 0,
  "metadata": {
    "colab": {
      "name": "Algorithmic Thinking with Python - Foundations.ipynb",
      "provenance": [],
      "authorship_tag": "ABX9TyP54bTLxzHPrl0J+iy5OIKP",
      "include_colab_link": true
    },
    "kernelspec": {
      "name": "python3",
      "display_name": "Python 3"
    },
    "language_info": {
      "name": "python"
    }
  },
  "cells": [
    {
      "cell_type": "markdown",
      "metadata": {
        "id": "view-in-github",
        "colab_type": "text"
      },
      "source": [
        "<a href=\"https://colab.research.google.com/github/macrodatascience/LinkedIn-Learning/blob/main/Algorithmic_Thinking_with_Python_Foundations.ipynb\" target=\"_parent\"><img src=\"https://colab.research.google.com/assets/colab-badge.svg\" alt=\"Open In Colab\"/></a>"
      ]
    },
    {
      "cell_type": "markdown",
      "source": [
        "## **The 100 Doors Coding Challenge**\n",
        "\n",
        "  There are 100 doors in a row that are initially closed\n",
        "\n",
        "  Pass 1 - You go thru all the doors and toggle their state (O->C, C->O)\n",
        "\n",
        "  Pass 2 - You go thru every second door (2,4,6..) and toggle it's state (O/C)\n",
        "\n",
        "  Pass 3 - You go thru every third door (3,6,9,..) and toggle it's state\n",
        "\n",
        "  ...\n",
        "  \n",
        "  Pass 100 - You go to 100th door and toggle it's state\n",
        "\n",
        "  How many doors are open and how many are closed? \n"
      ],
      "metadata": {
        "id": "4fVRpPS-PFP_"
      }
    },
    {
      "cell_type": "code",
      "execution_count": 29,
      "metadata": {
        "colab": {
          "base_uri": "https://localhost:8080/"
        },
        "id": "Fo3WF9VAOkkS",
        "outputId": "9cb3cd64-f1ff-4100-c9f3-bb7cd955843c"
      },
      "outputs": [
        {
          "output_type": "execute_result",
          "data": {
            "text/plain": [
              "[False, False, False, False, False]"
            ]
          },
          "metadata": {},
          "execution_count": 29
        }
      ],
      "source": [
        "## 1. How to represent the data -- data structure to use\n",
        "## 1. List of the Boolean values to represent the state of the doors\n",
        "doors = [False]*101  # ignore the 0th, and be able to map the door number to the index in the list\n",
        "\n",
        "doors[:5]"
      ]
    },
    {
      "cell_type": "code",
      "source": [
        "## 2. Nested For Loop \n",
        "\n",
        "for i in range(1, len(doors)):\n",
        "  for j in range(i,len(doors),i):\n",
        "     doors[j] = not doors[j]\n",
        "\n",
        "open, close = 0, 0\n",
        "for i in range(1, len(doors)):\n",
        "  if doors[i]:\n",
        "    open+=1\n",
        "    print(i, end=\", \")\n",
        "  else:\n",
        "    close+=1\n",
        "print()\n",
        "print(open, close)"
      ],
      "metadata": {
        "colab": {
          "base_uri": "https://localhost:8080/"
        },
        "id": "zkf84YVuTqQr",
        "outputId": "b2b13f19-98bc-4102-d22d-2af365c5113d"
      },
      "execution_count": 30,
      "outputs": [
        {
          "output_type": "stream",
          "name": "stdout",
          "text": [
            "1, 4, 9, 16, 25, 36, 49, 64, 81, 100, \n",
            "10 90\n"
          ]
        }
      ]
    },
    {
      "cell_type": "code",
      "source": [
        "for i in range(50,101,50):\n",
        "  print(i)"
      ],
      "metadata": {
        "colab": {
          "base_uri": "https://localhost:8080/"
        },
        "id": "LNT6e-gMUctp",
        "outputId": "bf15dd95-64dd-4380-d654-c973a12a79e0"
      },
      "execution_count": 8,
      "outputs": [
        {
          "output_type": "stream",
          "name": "stdout",
          "text": [
            "50\n",
            "100\n"
          ]
        }
      ]
    },
    {
      "cell_type": "code",
      "source": [
        "# Multiple of 3 -- Fizz\n",
        "# Multiple of 5 -- Buzz\n",
        "# Multiple of 3 and 5 -- FizzBuzz\n",
        "\n",
        "for i in range(1,1000):\n",
        "    if i%3==0 and i%5==0:\n",
        "        print(\"FizzBuzz\", end=\", \")\n",
        "    elif i%3==0:\n",
        "        print(\"Fizz\", end=\", \")\n",
        "    elif i%5==0:\n",
        "        print(\"Buzz\", end=\", \")\n",
        "    else:\n",
        "        print(i, end=\", \")"
      ],
      "metadata": {
        "id": "y0hVxUo_VrpF"
      },
      "execution_count": null,
      "outputs": []
    }
  ]
}