{
  "nbformat": 4,
  "nbformat_minor": 0,
  "metadata": {
    "colab": {
      "name": "Career Lessons.ipynb",
      "provenance": [],
      "authorship_tag": "ABX9TyOzEEH2Z6O4L68P2d6K9mCF",
      "include_colab_link": true
    },
    "kernelspec": {
      "name": "python3",
      "display_name": "Python 3"
    },
    "language_info": {
      "name": "python"
    }
  },
  "cells": [
    {
      "cell_type": "markdown",
      "metadata": {
        "id": "view-in-github",
        "colab_type": "text"
      },
      "source": [
        "<a href=\"https://colab.research.google.com/github/macrodatascience/LinkedIn-Learning/blob/main/Career_Lessons.ipynb\" target=\"_parent\"><img src=\"https://colab.research.google.com/assets/colab-badge.svg\" alt=\"Open In Colab\"/></a>"
      ]
    },
    {
      "cell_type": "markdown",
      "source": [
        "**Principle #1: You’re not the “Strategy Guy”**\n",
        " \n",
        "Yet.\n",
        " \n",
        "To be a big picture thinker, you have to earn the respect, trust and credibility of your team first.\n",
        " \n",
        "The only way you can do this is through **delivering tangible value**\n",
        " \n",
        "**Focus on bringing results, not laying out frameworks**"
      ],
      "metadata": {
        "id": "B42euXiqjTyC"
      }
    },
    {
      "cell_type": "markdown",
      "source": [
        "**Principle #2: Stay true to your commitments**\n",
        " \n",
        "If you make a commitment, see it through. Half-assed problem solving creates more work for everyone.\n",
        " \n",
        "**It’s astonishing how quickly you can get ahead if you simply:**\n",
        "\n",
        "A. Say you’re going to do something\n",
        "B. Do it\n",
        "C. Repeat"
      ],
      "metadata": {
        "id": "c0kJNLC8jgEY"
      }
    },
    {
      "cell_type": "markdown",
      "source": [
        "**Principle #3: Get on the scoreboard**\n",
        " \n",
        "**Identify the low hanging fruit**. This can be for your boss, your team or the company.\n",
        " \n",
        "It’s obvious, everybody knows it’s there, but for whatever reason it hasn’t been fixed.\n",
        " \n",
        "**Fix it**\n",
        " \n",
        "Why? **It shows momentum and creates a rallying point**"
      ],
      "metadata": {
        "id": "8X1NINAkjrTZ"
      }
    },
    {
      "cell_type": "markdown",
      "source": [
        "**Principle #4: Set the tone**\n",
        " \n",
        "When I took over Metasys 3 years ago, we had 0 marketing.\n",
        " \n",
        "I told the team that within 90 days, we would have a refreshed brand, logo and website.\n",
        "\n",
        "It energized the team, but more importantly, established we were going to work at a much faster pace."
      ],
      "metadata": {
        "id": "YnQrhhpwj5Sb"
      }
    },
    {
      "cell_type": "markdown",
      "source": [
        "**Principle #5: Figure out what your boss hates and take it off their plate**\n",
        " \n",
        "An exercise I like to do is the “**Value Venn Diagram**”\n",
        " \n",
        "- **What do I like...**\n",
        "- **What am I good at...**\n",
        "- **What does the company need..** \n",
        " \n",
        "Figure out what the company needs AND your boss DOESN’T like doing."
      ],
      "metadata": {
        "id": "TODKTAC4j_y3"
      }
    },
    {
      "cell_type": "markdown",
      "source": [
        "**Principle #6: Learn just enough to be dangerous**\n",
        " \n",
        "Know a little bit about: (a) how the world works, (b) how your industry works and (c) how the business works.\n",
        "\n",
        "**Cross functional knowledge** is underrated.\n",
        "\n",
        "If you bring it to the table, you’ll be an asset in any company from Day 1."
      ],
      "metadata": {
        "id": "eIVslOaukWfX"
      }
    },
    {
      "cell_type": "markdown",
      "source": [
        "**Principle #7: Use the “Challenge Framework” to solve difficult problems**\n",
        " \n",
        "Every situation is a function of: \n",
        " \n",
        "- Incentives\n",
        "- Personalities\n",
        "- Perspectives\n",
        "- Constraints\n",
        "- Resources\n",
        " \n",
        "In most “tough” situations, 2+ are misaligned. \n",
        " \n",
        "Figure out which and hone in on them."
      ],
      "metadata": {
        "id": "PmnQ-43Jkeku"
      }
    },
    {
      "cell_type": "markdown",
      "source": [
        "**Principle #8: Make friends**\n",
        " \n",
        "**People go to bat for people they like. It’s really as simple as that**\n",
        " \n",
        "In a positive case - they’ll go the extra mile to support you.\n",
        " \n",
        "In a negative case - they’ll give you the benefit of the doubt.\n",
        " \n",
        "**Being nice to others pays unplanned dividends**"
      ],
      "metadata": {
        "id": "Fqlum0nYkpk3"
      }
    },
    {
      "cell_type": "markdown",
      "source": [
        "**Principle #9: Get comfortable with being uncomfortable**\n",
        "\n",
        "If you get advice from enough people, the advice cancels out. You can find 2 smart people to take opposite sides of the argument on virtually every topic.\n",
        "\n",
        "**Focus on developing your instincts and trusting your own intuition**"
      ],
      "metadata": {
        "id": "HodZf_ewkxnw"
      }
    },
    {
      "cell_type": "markdown",
      "source": [
        "**Principle #10: Train yourself to be open minded vs. close minded**\n",
        " \n",
        "**Open Minded**:\n",
        " \n",
        "- Ask genuine questions\n",
        "- Insatiably curious\n",
        "- Listen attentively\n",
        " \n",
        "**Close Minded**:\n",
        " \n",
        "- Make statements instead of ask questions\n",
        "- Focus on being right\n",
        "- Speak more"
      ],
      "metadata": {
        "id": "68Fa47ABk5CW"
      }
    },
    {
      "cell_type": "markdown",
      "source": [
        "**Principle #11: Fall in love with messiness**\n",
        " \n",
        "Most people hate messes and avoid them like the plague.\n",
        " \n",
        "But this is where the opportunity is.\n",
        " \n",
        "**If you execute against the opportunity, you'll find this is also where your fastest levers for advancement live.**"
      ],
      "metadata": {
        "id": "65GOGxznk_G9"
      }
    },
    {
      "cell_type": "markdown",
      "source": [
        "**Principle #12: Put things on paper**\n",
        " \n",
        "Writing things down **brings clarity** to the thought process. \n",
        " \n",
        "It’s easy to talk about something and build castles in the sky.\n",
        " \n",
        "It’s a lot harder to distill, synthesize, pressure test and then communicate."
      ],
      "metadata": {
        "id": "20ueOcoClHsp"
      }
    },
    {
      "cell_type": "markdown",
      "source": [
        "**Principle #13: The answer is just as important as the process**\n",
        " \n",
        "**Nobody likes to work with a “know it all”**\n",
        " \n",
        "Don’t compromise on the solution - the best answer is key to driving impact.\n",
        " \n",
        "But getting to the right answer without any buy in or commitment is worthless."
      ],
      "metadata": {
        "id": "m-dvkemjlNZd"
      }
    },
    {
      "cell_type": "markdown",
      "source": [
        "**Principle #14: Learn to disagree and commit**\n",
        " \n",
        "**Eat your ego**\n",
        " \n",
        "Regardless of the outcome of the decision, you need to disagree and *commit*\n",
        " \n",
        "**Don’t be a sore loser and detractor**\n",
        " \n",
        "Work as hard on the path forward as if it was your own idea"
      ],
      "metadata": {
        "id": "4zMAtXA9l1yC"
      }
    },
    {
      "cell_type": "markdown",
      "source": [
        "**Principle #15: Find the tension points**\n",
        " \n",
        "- What is each team working towards in the quarter?\n",
        "- How is this at odds with what your team is working on?\n",
        " \n",
        "The overlap of these 2 questions is where friction will come from.\n",
        " \n",
        "***Identify it. Plan around it. Push through it.***"
      ],
      "metadata": {
        "id": "EH9wJ3xHl_8f"
      }
    },
    {
      "cell_type": "markdown",
      "source": [
        "**Principle #16: Speed is always an advantage**\n",
        " \n",
        "A question I routinely ask myself is:\n",
        " \n",
        "\"What would it take to move 50% faster?\"\n",
        " \n",
        "- Money?\n",
        "- People?\n",
        "- Ideas?\n",
        "- Alignment?\n",
        " \n",
        "You may not move faster, but it's good to be aware of how you can move faster.\n",
        " \n",
        "**Speed is king**"
      ],
      "metadata": {
        "id": "UluR8HU9mGSC"
      }
    },
    {
      "cell_type": "markdown",
      "source": [
        "**Principle #17: Over communicate**\n",
        " \n",
        "Building trust takes time. Until you have an implicit trust formed with your team, you need to over communicate.\n",
        " \n",
        "I've seen so many careers fall apart on communication.\n",
        " \n",
        "**Get the work done AND keep people in the loop from beginning to end**"
      ],
      "metadata": {
        "id": "Zd8LcmHpmSSD"
      }
    },
    {
      "cell_type": "markdown",
      "source": [
        "**Principle #18: Be a team player**\n",
        " \n",
        "You are now at the bottom of the totem pole.\n",
        " \n",
        "No task is beneath you. All that matters is the team wins.\n",
        " \n",
        "Sounds easy in theory, but it's pretty hard in practice.\n",
        " \n",
        "**If you can keep this attitude though, you will stand out big time.**"
      ],
      "metadata": {
        "id": "8QIondZamYQU"
      }
    },
    {
      "cell_type": "markdown",
      "source": [
        "**Principle #19: Become a master at sales & negotiation**\n",
        "\n",
        "Every opening is a sale - partnerships, recruiting, vision, fundraising\n",
        "\n",
        "Every close is a negotiation - hiring, alignment, price, terms, value\n",
        "\n",
        "The faster you can become a sales/negotiation jedi, the better served you'll be."
      ],
      "metadata": {
        "id": "WHC6LZeemeBB"
      }
    },
    {
      "cell_type": "markdown",
      "source": [
        "**Principle #20: Find \"your thing\"**\n",
        " \n",
        "Meditating. Sports. Junkie TV. Reading.\n",
        " \n",
        "Whatever it is.\n",
        " \n",
        "**Have a release that you can go to to recharge**\n",
        " \n",
        "**It'll keep you on track / the journey sustainable**\n",
        " \n",
        "Otherwise you'll burn out."
      ],
      "metadata": {
        "id": "wzcBrM0gmjgP"
      }
    },
    {
      "cell_type": "markdown",
      "source": [
        "# Thanks to Romeen Sheth"
      ],
      "metadata": {
        "id": "4DpLey8gjKXV"
      }
    }
  ]
}